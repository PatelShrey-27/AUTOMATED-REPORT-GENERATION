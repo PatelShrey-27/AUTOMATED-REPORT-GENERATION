{
 "cells": [
  {
   "cell_type": "code",
   "execution_count": 5,
   "id": "3c80fd39-1b17-480f-9100-592cffcd9513",
   "metadata": {},
   "outputs": [
    {
     "name": "stdout",
     "output_type": "stream",
     "text": [
      "CSV file created successfully.\n",
      "         Date  Product  Revenue\n",
      "0  2024-01-01    Shirt     1000\n",
      "1  2024-01-02  T-Shirt     1200\n",
      "2  2024-01-03    Jeans     2000\n",
      "3  2024-01-04   Jacket     3000\n",
      "4  2024-01-05    Shoes     1500\n",
      "PDF report generated successfully.\n"
     ]
    }
   ],
   "source": [
    "import pandas as pd\n",
    "data = {\n",
    "    'Date': ['2024-01-01', '2024-01-02', '2024-01-03', '2024-01-04', '2024-01-05'],\n",
    "    'Product': ['Shirt', 'T-Shirt', 'Jeans', 'Jacket', 'Shoes'],\n",
    "    'Revenue': [1000, 1200, 2000, 3000, 1500]\n",
    "}\n",
    "\n",
    "df = pd.DataFrame(data)\n",
    "df.to_csv('sales_data.csv', index=False)\n",
    "print(\"CSV file created successfully.\")\n",
    "\n",
    "\n",
    "df = pd.read_csv('sales_data.csv')\n",
    "\n",
    "\n",
    "print(df)\n",
    "\n",
    "\n",
    "total_revenue = df['Revenue'].sum()\n",
    "average_revenue = df['Revenue'].mean()\n",
    "max_revenue = df['Revenue'].max()\n",
    "min_revenue = df['Revenue'].min()\n",
    "top_product = df.loc[df['Revenue'].idxmax(),'Product']\n",
    "\n",
    "from fpdf import FPDF\n",
    "\n",
    "\n",
    "pdf = FPDF()\n",
    "pdf.add_page()\n",
    "pdf.set_font(\"Arial\", size=12)\n",
    "\n",
    "\n",
    "pdf.cell(200, 10, txt=\"Sales Report\", ln=True, align='C')\n",
    "pdf.ln(10)\n",
    "\n",
    "\n",
    "pdf.cell(200, 10, txt=f\"Total Revenue: Rs. {total_revenue}\", ln=True)\n",
    "pdf.cell(200, 10, txt=f\"Average Revenue: Rs. {average_revenue:.2f}\", ln=True)\n",
    "pdf.cell(200, 10, txt=f\"Maximum Revenue: Rs. {max_revenue}\", ln=True)\n",
    "pdf.cell(200, 10, txt=f\"Minimum Revenue: Rs. {min_revenue}\", ln=True)\n",
    "pdf.cell(200, 10, txt=f\"Top Product: {top_product}\", ln=True)\n",
    "\n",
    "\n",
    "pdf.output(\"Sales_Report.pdf\")\n",
    "print(\"PDF report generated successfully.\")"
   ]
  }
 ],
 "metadata": {
  "kernelspec": {
   "display_name": "Python 3 (ipykernel)",
   "language": "python",
   "name": "python3"
  },
  "language_info": {
   "codemirror_mode": {
    "name": "ipython",
    "version": 3
   },
   "file_extension": ".py",
   "mimetype": "text/x-python",
   "name": "python",
   "nbconvert_exporter": "python",
   "pygments_lexer": "ipython3",
   "version": "3.12.3"
  }
 },
 "nbformat": 4,
 "nbformat_minor": 5
}
